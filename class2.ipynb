{
  "nbformat": 4,
  "nbformat_minor": 0,
  "metadata": {
    "colab": {
      "provenance": [],
      "authorship_tag": "ABX9TyMEgcQ1bhgrNIkZOUGF/GgU",
      "include_colab_link": true
    },
    "kernelspec": {
      "name": "python3",
      "display_name": "Python 3"
    },
    "language_info": {
      "name": "python"
    }
  },
  "cells": [
    {
      "cell_type": "markdown",
      "metadata": {
        "id": "view-in-github",
        "colab_type": "text"
      },
      "source": [
        "<a href=\"https://colab.research.google.com/github/jatindangi1206/Python-for-Bio/blob/main/class2.ipynb\" target=\"_parent\"><img src=\"https://colab.research.google.com/assets/colab-badge.svg\" alt=\"Open In Colab\"/></a>"
      ]
    },
    {
      "cell_type": "code",
      "execution_count": null,
      "metadata": {
        "colab": {
          "base_uri": "https://localhost:8080/"
        },
        "id": "67Yf6RYHqeWM",
        "outputId": "5ac341a6-9a24-44d6-9ae5-34b9a295e96e"
      },
      "outputs": [
        {
          "output_type": "stream",
          "name": "stdout",
          "text": [
            "Divisible by 7: False\n",
            "Divisible by 11: True\n",
            "Divisible by 13: False\n"
          ]
        }
      ],
      "source": [
        "# check if 1237654 is divisible by 7, 11 or 13\n",
        "\n",
        "num = 1237654\n",
        "divisible_by_7 = num % 7 == 0\n",
        "divisible_by_11 = num % 11 == 0\n",
        "divisible_by_13 = num % 13 == 0\n",
        "\n",
        "print(\"Divisible by 7:\", divisible_by_7)\n",
        "print(\"Divisible by 11:\", divisible_by_11)\n",
        "print(\"Divisible by 13:\", divisible_by_13)\n"
      ]
    },
    {
      "cell_type": "code",
      "source": [
        "#  Find the value: 232 + (393-227)*172/32\n",
        "\n",
        "result = 232 + (393-227)*172/32\n",
        "print(result)\n"
      ],
      "metadata": {
        "colab": {
          "base_uri": "https://localhost:8080/"
        },
        "id": "HAZTuz-YqtNv",
        "outputId": "eefaaa84-7349-4687-d011-038f3770c9dc"
      },
      "execution_count": null,
      "outputs": [
        {
          "output_type": "stream",
          "name": "stdout",
          "text": [
            "1124.25\n"
          ]
        }
      ]
    },
    {
      "cell_type": "code",
      "source": [
        "import sys\n",
        "\n",
        "#  find value of 2 power 2 power 2 and 7 power 7 power 7\n",
        "\n",
        "# 2 raised to the power of 2 raised to the power of 2\n",
        "result1 = (2 ** 2) ** 2\n",
        "\n",
        "# 7 raised to the power of 7 raised to the power of 7\n",
        "result2 = (7 ** 7) ** 7\n",
        "\n",
        "print(result1)\n",
        "\n",
        "# Increase the limit for integer string conversion\n",
        "sys.set_int_max_str_digits(0)  # Set to 0 for unlimited length\n",
        "print(result2)"
      ],
      "metadata": {
        "colab": {
          "base_uri": "https://localhost:8080/"
        },
        "id": "u9tv2m-jsZZB",
        "outputId": "8bd0caf3-426c-459c-91b2-7546a4e68f01"
      },
      "execution_count": null,
      "outputs": [
        {
          "output_type": "stream",
          "name": "stdout",
          "text": [
            "16\n",
            "256923577521058878088611477224235621321607\n"
          ]
        }
      ]
    },
    {
      "cell_type": "code",
      "source": [
        "\n",
        "\n",
        "# Ask the user for their name\n",
        "name = input(\"What is your name? \")\n",
        "\n",
        "# Display the user's name\n",
        "print(\"Hello, \" + name + \"!\")\n"
      ],
      "metadata": {
        "colab": {
          "base_uri": "https://localhost:8080/"
        },
        "id": "HY8kSJ07sxDt",
        "outputId": "f00670ce-7c18-4704-b5ab-328a025419a1"
      },
      "execution_count": null,
      "outputs": [
        {
          "output_type": "stream",
          "name": "stdout",
          "text": [
            "What is your name? jatin\n",
            "Hello, jatin!\n"
          ]
        }
      ]
    },
    {
      "cell_type": "code",
      "source": [
        "\n",
        "\n",
        "import datetime\n",
        "\n",
        "# Ask the user for their birth year\n",
        "birth_year = int(input(\"What year were you born? \"))\n",
        "\n",
        "# Get the current year\n",
        "current_year = datetime.datetime.now().year\n",
        "\n",
        "# Calculate the user's age\n",
        "age = current_year - birth_year\n",
        "\n",
        "# Display the user's age\n",
        "print(\"You are\", age, \"years old.\")\n"
      ],
      "metadata": {
        "colab": {
          "base_uri": "https://localhost:8080/"
        },
        "id": "S7sZdDaauOaP",
        "outputId": "b21b3786-3bbb-407d-9c04-0d236a976e86"
      },
      "execution_count": null,
      "outputs": [
        {
          "output_type": "stream",
          "name": "stdout",
          "text": [
            "What year were you born? 2003\n",
            "You are 21 years old.\n"
          ]
        }
      ]
    },
    {
      "cell_type": "code",
      "source": [
        "#\n",
        "\n",
        "with open('myfile.txt', 'w') as f:\n",
        "  f.write('My name is Jatin.')\n",
        "  print(\"hi\", file=f)\n"
      ],
      "metadata": {
        "id": "Eomppfljuo-w"
      },
      "execution_count": null,
      "outputs": []
    },
    {
      "cell_type": "code",
      "source": [
        "# ask birth-year of the user , calculate their age and store the value in a text file.\n",
        "\n",
        "import datetime\n",
        "\n",
        "# Ask the user for their birth year\n",
        "birth_year = int(input(\"What year were you born? \"))\n",
        "\n",
        "# Get the current year\n",
        "current_year = datetime.datetime.now().year\n",
        "\n",
        "# Calculate the user's age\n",
        "age = current_year - birth_year\n",
        "\n",
        "# Open a file in write mode\n",
        "with open('age.txt', 'w') as f:\n",
        "  # Write the user's age to the file\n",
        "  f.write(str(age))\n"
      ],
      "metadata": {
        "colab": {
          "base_uri": "https://localhost:8080/"
        },
        "id": "byQ6w1HUzvyA",
        "outputId": "9059479e-97f2-46db-d30c-b20e4aee2c75"
      },
      "execution_count": null,
      "outputs": [
        {
          "name": "stdout",
          "output_type": "stream",
          "text": [
            "What year were you born? 2003\n"
          ]
        }
      ]
    },
    {
      "cell_type": "code",
      "source": [
        "# ask user to provide a number , calculate cube of the number , and store the value in the above text file.\n",
        "\n",
        "# Ask the user for a number\n",
        "number = int(input(\"Please enter a number: \"))\n",
        "\n",
        "# Calculate the cube of the number\n",
        "cube = number ** 3\n",
        "\n",
        "# Open the file in write mode\n",
        "with open('age.txt', 'w') as f:\n",
        "  # Write the cube of the number to the file\n",
        "  f.write(str(cube))\n"
      ],
      "metadata": {
        "colab": {
          "base_uri": "https://localhost:8080/"
        },
        "id": "i6KcsOzc21dj",
        "outputId": "3f7b65fa-6f34-4be4-897b-7860acd14794"
      },
      "execution_count": null,
      "outputs": [
        {
          "name": "stdout",
          "output_type": "stream",
          "text": [
            "Please enter a number: 5\n"
          ]
        }
      ]
    },
    {
      "cell_type": "code",
      "source": [
        "for i in range(1, 11):\n",
        "  print(i)"
      ],
      "metadata": {
        "colab": {
          "base_uri": "https://localhost:8080/"
        },
        "id": "It_Nyk_63KYV",
        "outputId": "7ee4534c-9a1c-4af4-abd8-448370a6912b"
      },
      "execution_count": null,
      "outputs": [
        {
          "output_type": "stream",
          "name": "stdout",
          "text": [
            "1\n",
            "2\n",
            "3\n",
            "4\n",
            "5\n",
            "6\n",
            "7\n",
            "8\n",
            "9\n",
            "10\n"
          ]
        }
      ]
    },
    {
      "cell_type": "code",
      "source": [
        "#\n",
        "for i in range(1, 11):\n",
        "  if i > 5:\n",
        "    print(i)\n"
      ],
      "metadata": {
        "colab": {
          "base_uri": "https://localhost:8080/"
        },
        "id": "Ptag7nAK9G2t",
        "outputId": "5836099f-278a-4223-d5b7-df1dd239b3a7"
      },
      "execution_count": null,
      "outputs": [
        {
          "output_type": "stream",
          "name": "stdout",
          "text": [
            "6\n",
            "7\n",
            "8\n",
            "9\n",
            "10\n"
          ]
        }
      ]
    },
    {
      "cell_type": "code",
      "source": [],
      "metadata": {
        "id": "rpDQ3CDD9PaC"
      },
      "execution_count": null,
      "outputs": []
    }
  ]
}
{
  "nbformat": 4,
  "nbformat_minor": 0,
  "metadata": {
    "colab": {
      "provenance": [],
      "authorship_tag": "ABX9TyPyctQg8HsCaY6vyC22En5/",
      "include_colab_link": true
    },
    "kernelspec": {
      "name": "python3",
      "display_name": "Python 3"
    },
    "language_info": {
      "name": "python"
    }
  },
  "cells": [
    {
      "cell_type": "markdown",
      "metadata": {
        "id": "view-in-github",
        "colab_type": "text"
      },
      "source": [
        "<a href=\"https://colab.research.google.com/github/jatindangi1206/Python-for-Bio/blob/main/Class_3.ipynb\" target=\"_parent\"><img src=\"https://colab.research.google.com/assets/colab-badge.svg\" alt=\"Open In Colab\"/></a>"
      ]
    },
    {
      "cell_type": "code",
      "execution_count": null,
      "metadata": {
        "colab": {
          "base_uri": "https://localhost:8080/"
        },
        "id": "GA-A4q52wJtC",
        "outputId": "7ad0120b-2f8e-4b6b-b5e3-f8bf5e285713"
      },
      "outputs": [
        {
          "output_type": "stream",
          "name": "stdout",
          "text": [
            "0 is even\n",
            "1 is odd\n",
            "2 is even\n",
            "3 is odd\n",
            "4 is even\n",
            "5 is odd\n",
            "6 is even\n",
            "7 is odd\n",
            "8 is even\n",
            "9 is odd\n",
            "10 is even\n"
          ]
        }
      ],
      "source": [
        "i = 0  # Initialize 'i' with a starting value\n",
        "while i <= 10:\n",
        "  if i % 2 == 0:\n",
        "    print(f\"{i} is even\")\n",
        "  else:\n",
        "    print(f\"{i} is odd\")\n",
        "  i += 1  # Increment 'i' for the next iteration"
      ]
    },
    {
      "cell_type": "code",
      "source": [
        "i = 6  # Initialize 'i' with a starting value\n",
        "while i <= 10:\n",
        "  if i % 2 == 0:\n",
        "    print(f\"{i} is even\")\n",
        "  else:\n",
        "    print(f\"{i} is odd\")\n",
        "  i += 1  # Increment 'i' for the next iteration"
      ],
      "metadata": {
        "id": "O97CFIlgy6h4",
        "colab": {
          "base_uri": "https://localhost:8080/"
        },
        "outputId": "e0cd32da-fb45-4fe7-9623-8d625092e931"
      },
      "execution_count": null,
      "outputs": [
        {
          "output_type": "stream",
          "name": "stdout",
          "text": [
            "6 is even\n",
            "7 is odd\n",
            "8 is even\n",
            "9 is odd\n",
            "10 is even\n"
          ]
        }
      ]
    },
    {
      "cell_type": "code",
      "source": [
        "for i in range(18,2,-3):\n",
        "  print(i ** 2)"
      ],
      "metadata": {
        "colab": {
          "base_uri": "https://localhost:8080/"
        },
        "id": "4YfT7J2c18Tz",
        "outputId": "5ae1e1f5-fe1a-432a-dd1a-10ba6c413a2a"
      },
      "execution_count": null,
      "outputs": [
        {
          "output_type": "stream",
          "name": "stdout",
          "text": [
            "324\n",
            "225\n",
            "144\n",
            "81\n",
            "36\n",
            "9\n"
          ]
        }
      ]
    },
    {
      "cell_type": "code",
      "source": [
        "\n",
        "\n",
        "sum_of_integers = 0\n",
        "for i in range(5, 11):\n",
        "  sum_of_integers += i\n",
        "print(sum_of_integers)\n"
      ],
      "metadata": {
        "colab": {
          "base_uri": "https://localhost:8080/"
        },
        "id": "E5l9iQUD2Vg3",
        "outputId": "9c41f711-b347-4cb3-9b3d-4f7274b12a2a"
      },
      "execution_count": null,
      "outputs": [
        {
          "output_type": "stream",
          "name": "stdout",
          "text": [
            "45\n"
          ]
        }
      ]
    },
    {
      "cell_type": "code",
      "source": [
        "\n",
        "\n",
        "sum_of_integers = 0\n",
        "for i in range(6, 11):\n",
        "  sum_of_integers += i\n",
        "print(sum_of_integers)\n"
      ],
      "metadata": {
        "colab": {
          "base_uri": "https://localhost:8080/"
        },
        "id": "HXFzfOJW2khP",
        "outputId": "6270d115-ea6c-496b-9610-033d3d93d218"
      },
      "execution_count": null,
      "outputs": [
        {
          "output_type": "stream",
          "name": "stdout",
          "text": [
            "40\n"
          ]
        }
      ]
    },
    {
      "cell_type": "code",
      "source": [
        "str1 = \"Hello\"\n",
        "str2 = \"World\"\n",
        "print(str1 +str2)\n",
        "print(len(str1))"
      ],
      "metadata": {
        "colab": {
          "base_uri": "https://localhost:8080/"
        },
        "id": "_EJX4yEV2z4I",
        "outputId": "b4ea634c-528d-4593-b70d-008faa9a0d09"
      },
      "execution_count": null,
      "outputs": [
        {
          "output_type": "stream",
          "name": "stdout",
          "text": [
            "HelloWorld\n",
            "5\n"
          ]
        }
      ]
    },
    {
      "cell_type": "code",
      "source": [
        "from re import M\n",
        "\n",
        "\n",
        "str1 = \"Hello\"\n",
        "str2 = \"World\"\n",
        "print(str1 *500)\n",
        "print(len(str1))"
      ],
      "metadata": {
        "colab": {
          "base_uri": "https://localhost:8080/"
        },
        "id": "gfRJeH8q4Zl2",
        "outputId": "c8175457-1df2-4511-d2ac-79f27faddbe6"
      },
      "execution_count": null,
      "outputs": [
        {
          "output_type": "stream",
          "name": "stdout",
          "text": [
            "HelloHelloHelloHelloHelloHelloHelloHelloHelloHelloHelloHelloHelloHelloHelloHelloHelloHelloHelloHelloHelloHelloHelloHelloHelloHelloHelloHelloHelloHelloHelloHelloHelloHelloHelloHelloHelloHelloHelloHelloHelloHelloHelloHelloHelloHelloHelloHelloHelloHelloHelloHelloHelloHelloHelloHelloHelloHelloHelloHelloHelloHelloHelloHelloHelloHelloHelloHelloHelloHelloHelloHelloHelloHelloHelloHelloHelloHelloHelloHelloHelloHelloHelloHelloHelloHelloHelloHelloHelloHelloHelloHelloHelloHelloHelloHelloHelloHelloHelloHelloHelloHelloHelloHelloHelloHelloHelloHelloHelloHelloHelloHelloHelloHelloHelloHelloHelloHelloHelloHelloHelloHelloHelloHelloHelloHelloHelloHelloHelloHelloHelloHelloHelloHelloHelloHelloHelloHelloHelloHelloHelloHelloHelloHelloHelloHelloHelloHelloHelloHelloHelloHelloHelloHelloHelloHelloHelloHelloHelloHelloHelloHelloHelloHelloHelloHelloHelloHelloHelloHelloHelloHelloHelloHelloHelloHelloHelloHelloHelloHelloHelloHelloHelloHelloHelloHelloHelloHelloHelloHelloHelloHelloHelloHelloHelloHelloHelloHelloHelloHelloHelloHelloHelloHelloHelloHelloHelloHelloHelloHelloHelloHelloHelloHelloHelloHelloHelloHelloHelloHelloHelloHelloHelloHelloHelloHelloHelloHelloHelloHelloHelloHelloHelloHelloHelloHelloHelloHelloHelloHelloHelloHelloHelloHelloHelloHelloHelloHelloHelloHelloHelloHelloHelloHelloHelloHelloHelloHelloHelloHelloHelloHelloHelloHelloHelloHelloHelloHelloHelloHelloHelloHelloHelloHelloHelloHelloHelloHelloHelloHelloHelloHelloHelloHelloHelloHelloHelloHelloHelloHelloHelloHelloHelloHelloHelloHelloHelloHelloHelloHelloHelloHelloHelloHelloHelloHelloHelloHelloHelloHelloHelloHelloHelloHelloHelloHelloHelloHelloHelloHelloHelloHelloHelloHelloHelloHelloHelloHelloHelloHelloHelloHelloHelloHelloHelloHelloHelloHelloHelloHelloHelloHelloHelloHelloHelloHelloHelloHelloHelloHelloHelloHelloHelloHelloHelloHelloHelloHelloHelloHelloHelloHelloHelloHelloHelloHelloHelloHelloHelloHelloHelloHelloHelloHelloHelloHelloHelloHelloHelloHelloHelloHelloHelloHelloHelloHelloHelloHelloHelloHelloHelloHelloHelloHelloHelloHelloHelloHelloHelloHelloHelloHelloHelloHelloHelloHelloHelloHelloHelloHelloHelloHelloHelloHelloHelloHelloHelloHelloHelloHelloHelloHelloHelloHelloHelloHelloHelloHelloHelloHelloHelloHelloHelloHelloHelloHelloHelloHelloHelloHelloHelloHelloHelloHelloHelloHelloHelloHelloHelloHelloHelloHelloHelloHelloHelloHelloHelloHelloHelloHelloHelloHelloHelloHelloHelloHelloHelloHelloHelloHelloHelloHelloHelloHelloHelloHelloHelloHelloHelloHelloHelloHelloHelloHelloHelloHelloHelloHelloHelloHelloHelloHelloHelloHelloHelloHelloHelloHelloHelloHello\n",
            "5\n"
          ]
        }
      ]
    },
    {
      "cell_type": "code",
      "source": [
        "\n",
        "\n",
        "str1 = \"Hello\"\n",
        "print(str1.index('e'))\n"
      ],
      "metadata": {
        "colab": {
          "base_uri": "https://localhost:8080/"
        },
        "id": "EdBfEy5f40bm",
        "outputId": "0c51ae0b-9754-4eb1-b5b8-43d16f9bd7d6"
      },
      "execution_count": null,
      "outputs": [
        {
          "output_type": "stream",
          "name": "stdout",
          "text": [
            "1\n"
          ]
        }
      ]
    },
    {
      "cell_type": "code",
      "source": [
        "str1 = \"Hello\"\n",
        "str2 = \"World\"\n",
        "print(str1 +str2)\n",
        "print(len(str1))\n",
        "\n",
        "print(str1[0])"
      ],
      "metadata": {
        "colab": {
          "base_uri": "https://localhost:8080/"
        },
        "id": "aU5VFmX8605i",
        "outputId": "433e9853-943d-4b87-dd62-1961cc3cf665"
      },
      "execution_count": null,
      "outputs": [
        {
          "output_type": "stream",
          "name": "stdout",
          "text": [
            "HelloWorld\n",
            "5\n",
            "H\n"
          ]
        }
      ]
    },
    {
      "cell_type": "code",
      "source": [
        "str1 = \"Hello, World!\"\n",
        "print(str1[0:5])"
      ],
      "metadata": {
        "colab": {
          "base_uri": "https://localhost:8080/"
        },
        "id": "4lrYcaL47Bk5",
        "outputId": "c4872caa-76b6-488d-b1d4-fa7be2322471"
      },
      "execution_count": null,
      "outputs": [
        {
          "output_type": "stream",
          "name": "stdout",
          "text": [
            "Hello\n"
          ]
        }
      ]
    },
    {
      "cell_type": "code",
      "source": [
        "str1 = \"Hello, World!\"\n",
        "print(str1[::2])"
      ],
      "metadata": {
        "colab": {
          "base_uri": "https://localhost:8080/"
        },
        "id": "OnD8q3mX8Cs3",
        "outputId": "1d7fe4ed-ff59-4564-adff-8048d9e6aac8"
      },
      "execution_count": null,
      "outputs": [
        {
          "output_type": "stream",
          "name": "stdout",
          "text": [
            "Hlo ol!\n"
          ]
        }
      ]
    },
    {
      "cell_type": "code",
      "source": [
        "str1 = \"Hello,World!\"\n",
        "print(str1[0::2])"
      ],
      "metadata": {
        "colab": {
          "base_uri": "https://localhost:8080/"
        },
        "id": "FbYZnfWz8bBY",
        "outputId": "7995d9e6-66bf-4297-f090-88b482db26a2"
      },
      "execution_count": null,
      "outputs": [
        {
          "output_type": "stream",
          "name": "stdout",
          "text": [
            "HloWrd\n"
          ]
        }
      ]
    },
    {
      "cell_type": "code",
      "source": [
        "str1 = \"Hello, World!\"\n",
        "print(str1[::2])\n",
        "str1 == str1[:]"
      ],
      "metadata": {
        "colab": {
          "base_uri": "https://localhost:8080/"
        },
        "id": "WMrO8WRD84t6",
        "outputId": "b8b0aef1-89bf-4643-ca75-607f5a0fe7dd"
      },
      "execution_count": null,
      "outputs": [
        {
          "output_type": "stream",
          "name": "stdout",
          "text": [
            "Hlo ol!\n"
          ]
        },
        {
          "output_type": "execute_result",
          "data": {
            "text/plain": [
              "True"
            ]
          },
          "metadata": {},
          "execution_count": 33
        }
      ]
    },
    {
      "cell_type": "code",
      "source": [
        "# String Methods\n",
        "# str1 = 'Hello, World!'\n",
        "# print(str1.upper())\n",
        "# print(str 1.lower))\n",
        "# print(str1.count(0))\n",
        "# print(str1, replace('World', 'Python'))\n",
        "\n",
        "str1 = 'Hello, World!'\n",
        "\n",
        "# capitalize()\n",
        "print(str1.capitalize())\n",
        "\n",
        "# center()\n",
        "print(str1.center(50))\n",
        "\n",
        "# endswith()\n",
        "print(str1.endswith('!'))\n",
        "\n",
        "# find()\n",
        "print(str1.find('o'))\n",
        "\n",
        "# format()\n",
        "print(str1.format('Python'))\n",
        "\n",
        "# index()\n",
        "print(str1.index('W'))\n",
        "\n",
        "# isalnum()\n",
        "print(str1.isalnum())\n",
        "\n",
        "# isalpha()\n",
        "print(str1.isalpha())\n",
        "\n",
        "# isdigit()\n",
        "print(str1.isdigit())\n",
        "\n",
        "# islower()\n",
        "print(str1.islower())\n",
        "\n",
        "# isupper()\n",
        "print(str1.isupper())\n",
        "\n",
        "# join()\n",
        "print(','.join(['Hello', 'World']))\n",
        "\n",
        "# ljust()\n",
        "print(str1.ljust(50))\n",
        "\n",
        "# lower()\n",
        "print(str1.lower())\n",
        "\n",
        "# lstrip()\n",
        "print(str1.lstrip('Hello'))\n",
        "\n",
        "# partition()\n",
        "print(str1.partition(' '))\n",
        "\n",
        "# replace()\n",
        "print(str1.replace('World', 'Python'))\n",
        "\n",
        "# rfind()\n",
        "print(str1.rfind('o'))\n",
        "\n",
        "# rindex()\n",
        "print(str1.rindex('W'))\n",
        "\n",
        "# rjust()\n",
        "print(str1.rjust(50))\n",
        "\n",
        "# split()\n",
        "print(str1.split(' '))\n",
        "\n",
        "# strip()\n",
        "print(str1.strip('!'))\n",
        "\n",
        "# swapcase()\n",
        "print(str1.swapcase())\n",
        "\n",
        "# title()\n",
        "print(str1.title())\n",
        "\n",
        "# upper()\n",
        "print(str1.upper())\n",
        "\n",
        "# zfill()\n",
        "print(str1.zfill(50))\n"
      ],
      "metadata": {
        "colab": {
          "base_uri": "https://localhost:8080/"
        },
        "id": "8octySJS9Nv_",
        "outputId": "362792cf-a12f-4b3f-cee2-fcb5be0425c5"
      },
      "execution_count": null,
      "outputs": [
        {
          "output_type": "stream",
          "name": "stdout",
          "text": [
            "Hello, world!\n",
            "                  Hello, World!                   \n",
            "True\n",
            "4\n",
            "Hello, World!\n",
            "7\n",
            "False\n",
            "False\n",
            "False\n",
            "False\n",
            "False\n",
            "Hello,World\n",
            "Hello, World!                                     \n",
            "hello, world!\n",
            ", World!\n",
            "('Hello,', ' ', 'World!')\n",
            "Hello, Python!\n",
            "8\n",
            "7\n",
            "                                     Hello, World!\n",
            "['Hello,', 'World!']\n",
            "Hello, World\n",
            "hELLO, wORLD!\n",
            "Hello, World!\n",
            "HELLO, WORLD!\n",
            "0000000000000000000000000000000000000Hello, World!\n"
          ]
        }
      ]
    },
    {
      "cell_type": "code",
      "source": [
        "# replace()\n",
        "str1 = 'Hello, World!'\n",
        "str1 = (str1.replace('World', 'Python'))\n",
        "print(str1)"
      ],
      "metadata": {
        "colab": {
          "base_uri": "https://localhost:8080/"
        },
        "id": "N1CAxqSz9-CV",
        "outputId": "b88d2ce0-89ed-4487-de44-34a272109f58"
      },
      "execution_count": null,
      "outputs": [
        {
          "output_type": "stream",
          "name": "stdout",
          "text": [
            "Hello, Python!\n"
          ]
        }
      ]
    },
    {
      "cell_type": "code",
      "source": [
        "# prompt: string translation\n",
        "\n",
        "def string_translation(input_string):\n",
        "  \"\"\"\n",
        "  This function translates a given input string according to a specific rule.\n",
        "\n",
        "  Args:\n",
        "    input_string: The string to be translated.\n",
        "\n",
        "  Returns:\n",
        "    The translated string.\n",
        "  \"\"\"\n",
        "  translation_table = {\n",
        "      'a': 'z',\n",
        "      'b': 'y',\n",
        "      'c': 'x',\n",
        "      'd': 'w',\n",
        "      'e': 'v',\n",
        "      'f': 'u',\n",
        "      'g': 't',\n",
        "      'h': 's',\n",
        "      'i': 'r',\n",
        "      'j': 'q',\n",
        "      'k': 'p',\n",
        "      'l': 'o',\n",
        "      'm': 'n',\n",
        "      'n': 'm',\n",
        "      'o': 'l',\n",
        "      'p': 'k',\n",
        "      'q': 'j',\n",
        "      'r': 'i',\n",
        "      's': 'h',\n",
        "      't': 'g',\n",
        "      'u': 'f',\n",
        "      'v': 'e',\n",
        "      'w': 'd',\n",
        "      'x': 'c',\n",
        "      'y': 'b',\n",
        "      'z': 'a'\n",
        "  }\n",
        "\n",
        "  translated_string = ''\n",
        "  for char in input_string:\n",
        "    if char in translation_table:\n",
        "      translated_string += translation_table[char]\n",
        "    else:\n",
        "      translated_string += char\n",
        "\n",
        "  return translated_string\n",
        "\n",
        "# Example usage\n",
        "input_string = \"hello world\"\n",
        "translated_string = string_translation(input_string)\n",
        "\n",
        "print(\"Original string:\", input_string)\n",
        "print(\"Translated string:\", translated_string)\n"
      ],
      "metadata": {
        "colab": {
          "base_uri": "https://localhost:8080/"
        },
        "id": "-WczmKH0_S72",
        "outputId": "7e931a8f-107b-401b-dde1-f6cefafc979e"
      },
      "execution_count": null,
      "outputs": [
        {
          "output_type": "stream",
          "name": "stdout",
          "text": [
            "Original string: hello world\n",
            "Translated string: svool dliow\n"
          ]
        }
      ]
    },
    {
      "cell_type": "code",
      "source": [
        "str1 = \"Hello, World!\"\n",
        "mapping = str1.maketrans('World', 'Python')\n",
        "str2 = str1.translate(mapping)\n",
        "print(str2)"
      ],
      "metadata": {
        "colab": {
          "base_uri": "https://localhost:8080/",
          "height": 190
        },
        "id": "P67a75bfAEWf",
        "outputId": "e708476b-cb1e-4dc3-acf7-9171d48863c5"
      },
      "execution_count": null,
      "outputs": [
        {
          "output_type": "error",
          "ename": "ValueError",
          "evalue": "the first two maketrans arguments must have equal length",
          "traceback": [
            "\u001b[0;31m---------------------------------------------------------------------------\u001b[0m",
            "\u001b[0;31mValueError\u001b[0m                                Traceback (most recent call last)",
            "\u001b[0;32m<ipython-input-38-178a89ff02b6>\u001b[0m in \u001b[0;36m<cell line: 2>\u001b[0;34m()\u001b[0m\n\u001b[1;32m      1\u001b[0m \u001b[0mstr1\u001b[0m \u001b[0;34m=\u001b[0m \u001b[0;34m\"Hello, World!\"\u001b[0m\u001b[0;34m\u001b[0m\u001b[0;34m\u001b[0m\u001b[0m\n\u001b[0;32m----> 2\u001b[0;31m \u001b[0mmapping\u001b[0m \u001b[0;34m=\u001b[0m \u001b[0mstr1\u001b[0m\u001b[0;34m.\u001b[0m\u001b[0mmaketrans\u001b[0m\u001b[0;34m(\u001b[0m\u001b[0;34m'World'\u001b[0m\u001b[0;34m,\u001b[0m \u001b[0;34m'Python'\u001b[0m\u001b[0;34m)\u001b[0m\u001b[0;34m\u001b[0m\u001b[0;34m\u001b[0m\u001b[0m\n\u001b[0m\u001b[1;32m      3\u001b[0m \u001b[0mstr2\u001b[0m \u001b[0;34m=\u001b[0m \u001b[0mstr1\u001b[0m\u001b[0;34m.\u001b[0m\u001b[0mtranslate\u001b[0m\u001b[0;34m(\u001b[0m\u001b[0mmapping\u001b[0m\u001b[0;34m)\u001b[0m\u001b[0;34m\u001b[0m\u001b[0;34m\u001b[0m\u001b[0m\n\u001b[1;32m      4\u001b[0m \u001b[0mprint\u001b[0m\u001b[0;34m(\u001b[0m\u001b[0mstr2\u001b[0m\u001b[0;34m)\u001b[0m\u001b[0;34m\u001b[0m\u001b[0;34m\u001b[0m\u001b[0m\n",
            "\u001b[0;31mValueError\u001b[0m: the first two maketrans arguments must have equal length"
          ]
        }
      ]
    },
    {
      "cell_type": "code",
      "source": [
        "str1 = \"Hello, World!\"\n",
        "# Use the 3 argument form of maketrans to delete characters\n",
        "mapping = str1.maketrans('', '', 'World')\n",
        "str2 = str1.translate(mapping)\n",
        "print(str2) # Hello, !\n",
        "\n",
        "# Replace the deleted word with the desired word\n",
        "str2 = str2.replace(', ', ', Python')\n",
        "print(str2) # Hello, Python!"
      ],
      "metadata": {
        "colab": {
          "base_uri": "https://localhost:8080/"
        },
        "id": "wHgZzxi2Aoxz",
        "outputId": "4ed8f011-5cd1-4980-ac82-1c6517d4f7b8"
      },
      "execution_count": null,
      "outputs": [
        {
          "output_type": "stream",
          "name": "stdout",
          "text": [
            "He, !\n",
            "He, Python!\n"
          ]
        }
      ]
    },
    {
      "cell_type": "code",
      "source": [
        "\n",
        "\n",
        "import re\n",
        "\n",
        "def string_injection_model(input_string):\n",
        "  \"\"\"\n",
        "  This function creates a model for string injection by identifying potential injection points and constructing a template string.\n",
        "\n",
        "  Args:\n",
        "    input_string: The string to analyze.\n",
        "\n",
        "  Returns:\n",
        "    A dictionary containing the template string and a list of injection points.\n",
        "  \"\"\"\n",
        "\n",
        "  # Identify potential injection points using regular expressions\n",
        "  injection_points = re.findall(r\"(\\$\\{[^{}]+\\})\", input_string)\n",
        "\n",
        "  # Construct the template string by replacing injection points with placeholders\n",
        "  template_string = re.sub(r\"\\$\\{[^{}]+\\}\", \"{}\", input_string)\n",
        "\n",
        "  # Return the model\n",
        "  return {\"template_string\": template_string, \"injection_points\": injection_points}\n",
        "\n",
        "# Example usage\n",
        "input_string = \"SELECT * FROM users WHERE username = '${username}' AND password = '${password}'\"\n",
        "\n",
        "model = string_injection_model(input_string)\n",
        "\n",
        "print(\"Template string:\", model[\"template_string\"])\n",
        "print(\"Injection points:\", model[\"injection_points\"])\n"
      ],
      "metadata": {
        "colab": {
          "base_uri": "https://localhost:8080/"
        },
        "id": "i9D6P7_XAvAg",
        "outputId": "3316509c-a6dd-4ab9-a01a-242f9dd12ee4"
      },
      "execution_count": null,
      "outputs": [
        {
          "output_type": "stream",
          "name": "stdout",
          "text": [
            "Template string: SELECT * FROM users WHERE username = '{}' AND password = '{}'\n",
            "Injection points: ['${username}', '${password}']\n"
          ]
        }
      ]
    },
    {
      "cell_type": "code",
      "source": [
        "name = \"jatin\"\n",
        "age = 21\n",
        "print(f\"My name is {name} and I am {age} years old.\")"
      ],
      "metadata": {
        "colab": {
          "base_uri": "https://localhost:8080/"
        },
        "id": "SfgtCVa7CQQu",
        "outputId": "561b2ffd-164f-4c4d-ef64-669d7f9f0d33"
      },
      "execution_count": null,
      "outputs": [
        {
          "output_type": "stream",
          "name": "stdout",
          "text": [
            "My name is jatin and I am 21 years old.\n"
          ]
        }
      ]
    },
    {
      "cell_type": "code",
      "source": [
        "name = \"jatin\"\n",
        "age = 21\n",
        "print(f\"My name is {name} and I am {age} years old.\")\n",
        "\n",
        "print(f\"five plus ten is {5+10},and five times ten is {5*10}\")"
      ],
      "metadata": {
        "colab": {
          "base_uri": "https://localhost:8080/"
        },
        "id": "6N4wQXrbDvx8",
        "outputId": "ac0ce0f2-7bc4-47d2-8176-077405aa10b5"
      },
      "execution_count": null,
      "outputs": [
        {
          "output_type": "stream",
          "name": "stdout",
          "text": [
            "My name is jatin and I am 21 years old.\n",
            "five plus ten is 15,and five times ten is 50\n"
          ]
        }
      ]
    },
    {
      "cell_type": "code",
      "source": [
        "pi = 3.141592653589793\n",
        "print(f\"The value of pi is approximately {pi:.2f}\")"
      ],
      "metadata": {
        "colab": {
          "base_uri": "https://localhost:8080/"
        },
        "id": "MzTvQXkhEyhj",
        "outputId": "0e802a90-a551-477e-e7e5-845a6176ecef"
      },
      "execution_count": null,
      "outputs": [
        {
          "output_type": "stream",
          "name": "stdout",
          "text": [
            "The value of pi is approximately 3.14\n"
          ]
        }
      ]
    },
    {
      "cell_type": "code",
      "source": [],
      "metadata": {
        "id": "UkmBqJ-FFX0d"
      },
      "execution_count": null,
      "outputs": []
    }
  ]
}